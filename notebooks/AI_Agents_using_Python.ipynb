{
  "nbformat": 4,
  "nbformat_minor": 0,
  "metadata": {
    "colab": {
      "provenance": [],
      "authorship_tag": "ABX9TyNxtyB/Kqf/jUPJxDlXlgM/",
      "include_colab_link": true
    },
    "kernelspec": {
      "name": "python3",
      "display_name": "Python 3"
    },
    "language_info": {
      "name": "python"
    }
  },
  "cells": [
    {
      "cell_type": "markdown",
      "metadata": {
        "id": "view-in-github",
        "colab_type": "text"
      },
      "source": [
        "<a href=\"https://colab.research.google.com/github/anurag1210/llm-learning-anurag/blob/main/AI_Agents_using_Python.ipynb\" target=\"_parent\"><img src=\"https://colab.research.google.com/assets/colab-badge.svg\" alt=\"Open In Colab\"/></a>"
      ]
    },
    {
      "cell_type": "code",
      "execution_count": 44,
      "metadata": {
        "id": "C_m-D9lZmqDO"
      },
      "outputs": [],
      "source": [
        "import os\n",
        "from openai import OpenAI\n",
        "import re\n",
        "import httpx\n",
        "\n",
        "\n",
        "os.environ[\"OPENAI_API_KEY\"]=''\n",
        "\n",
        "\n",
        "client = OpenAI(\n",
        "    # This is the default and can be omitted\n",
        "    api_key=os.environ.get(\"OPENAI_API_KEY\"),\n",
        ")\n",
        "\n",
        "completion = client.chat.completions.create(\n",
        "    model=\"gpt-3.5-turbo\",\n",
        "    messages=[{'role':'user','content':'hello world'}]\n",
        ")\n"
      ]
    },
    {
      "cell_type": "code",
      "source": [
        "completion.choices[0].message.content"
      ],
      "metadata": {
        "colab": {
          "base_uri": "https://localhost:8080/",
          "height": 36
        },
        "id": "AM1YuAjAodTP",
        "outputId": "336259ee-f2d0-43ce-bee9-9ffaa4a94348"
      },
      "execution_count": 2,
      "outputs": [
        {
          "output_type": "execute_result",
          "data": {
            "text/plain": [
              "'Hello! How can I assist you today?'"
            ],
            "application/vnd.google.colaboratory.intrinsic+json": {
              "type": "string"
            }
          },
          "metadata": {},
          "execution_count": 2
        }
      ]
    },
    {
      "cell_type": "code",
      "source": [
        "class Agent:\n",
        "  def __init__(self,system=\"\"):\n",
        "    self.system=system\n",
        "    self.messages=[]\n",
        "    if self.system:\n",
        "       self.messages.append({'role':'system','content':self.system})\n",
        "\n",
        "\n",
        "\n",
        "  def __call__(self, message):\n",
        "    self.messages.append({\"role\": \"user\", \"content\": message})\n",
        "    result = self.execute()\n",
        "    self.messages.append({\"role\": \"assistant\", \"content\": result})\n",
        "    return result\n",
        "\n",
        "\n",
        "  def execute(self):\n",
        "        completion = client.chat.completions.create(\n",
        "                        model=\"gpt-4o\",\n",
        "                        temperature=0,\n",
        "                        messages=self.messages)\n",
        "        return completion.choices[0].message.content\n",
        "\n"
      ],
      "metadata": {
        "id": "CJ4J-C-3tMIG"
      },
      "execution_count": 24,
      "outputs": []
    },
    {
      "cell_type": "code",
      "source": [
        "prompt = \"\"\"\n",
        "You run in a loop of Thought, Action, PAUSE, Observation.\n",
        "At the end of the loop you output an Answer\n",
        "Use Thought to describe your thoughts about the question you have been asked.\n",
        "Use Action to run one of the actions available to you - then return PAUSE.\n",
        "Observation will be the result of running those actions.\n",
        "\n",
        "Your available actions are:\n",
        "\n",
        "calculate:\n",
        "e.g. calculate: 4 * 7 / 3\n",
        "Runs a calculation and returns the number - uses Python so be sure to use floating point syntax if necessary\n",
        "\n",
        "average_dog_weight:\n",
        "e.g. average_dog_weight: Collie\n",
        "returns average weight of a dog when given the breed\n",
        "\n",
        "Example session:\n",
        "\n",
        "Question: How much does a Bulldog weigh?\n",
        "Thought: I should look the dogs weight using average_dog_weight\n",
        "Action: average_dog_weight: Bulldog\n",
        "PAUSE\n",
        "\n",
        "You will be called again with this:\n",
        "\n",
        "Observation: A Bulldog weights 51 lbs\n",
        "\n",
        "You then output:\n",
        "\n",
        "Answer: A bulldog weights 51 lbs\n",
        "\"\"\".strip()"
      ],
      "metadata": {
        "id": "yPXZHGOmv73r"
      },
      "execution_count": 25,
      "outputs": []
    },
    {
      "cell_type": "code",
      "source": [
        "def calculate(what):\n",
        "    return eval(what)\n",
        "\n",
        "def average_dog_weight(name):\n",
        "    if name in \"Scottish Terrier\":\n",
        "        return(\"Scottish Terriers average 20 lbs\")\n",
        "    elif name in \"Border Collie\":\n",
        "        return(\"a Border Collies average weight is 37 lbs\")\n",
        "    elif name in \"Toy Poodle\":\n",
        "        return(\"a toy poodles average weight is 7 lbs\")\n",
        "    else:\n",
        "        return(\"An average dog weights 50 lbs\")\n",
        "\n",
        "known_actions = {\n",
        "    \"calculate\": calculate,\n",
        "    \"average_dog_weight\": average_dog_weight\n",
        "}"
      ],
      "metadata": {
        "id": "DR3npN7Pv8sZ"
      },
      "execution_count": 26,
      "outputs": []
    },
    {
      "cell_type": "code",
      "source": [
        "abot = Agent(prompt)"
      ],
      "metadata": {
        "id": "6GsH5MoXUTvW"
      },
      "execution_count": 27,
      "outputs": []
    },
    {
      "cell_type": "code",
      "source": [
        "result = abot(\"How much does a toy poodle weigh?\")\n",
        "print(result)"
      ],
      "metadata": {
        "colab": {
          "base_uri": "https://localhost:8080/"
        },
        "id": "MvQg05njUcB6",
        "outputId": "1f1683ea-8e2b-4e33-ab28-b1ea913d9770"
      },
      "execution_count": 28,
      "outputs": [
        {
          "output_type": "stream",
          "name": "stdout",
          "text": [
            "Thought: I should look up the average weight of a Toy Poodle using the average_dog_weight action.\n",
            "Action: average_dog_weight: Toy Poodle\n",
            "PAUSE\n"
          ]
        }
      ]
    },
    {
      "cell_type": "code",
      "source": [
        "result = average_dog_weight(\"Toy Poodle\")"
      ],
      "metadata": {
        "id": "J4f843sWYRrj"
      },
      "execution_count": 29,
      "outputs": []
    },
    {
      "cell_type": "code",
      "source": [
        "result"
      ],
      "metadata": {
        "colab": {
          "base_uri": "https://localhost:8080/",
          "height": 36
        },
        "id": "8o0vlsLfYlzV",
        "outputId": "8c4dbfdb-2f72-43fe-83d0-e0bd2897e6d1"
      },
      "execution_count": 30,
      "outputs": [
        {
          "output_type": "execute_result",
          "data": {
            "text/plain": [
              "'a toy poodles average weight is 7 lbs'"
            ],
            "application/vnd.google.colaboratory.intrinsic+json": {
              "type": "string"
            }
          },
          "metadata": {},
          "execution_count": 30
        }
      ]
    },
    {
      "cell_type": "code",
      "source": [
        "next_prompt = \"Observation: {}\".format(result)"
      ],
      "metadata": {
        "id": "cl7KQkJZYn2Z"
      },
      "execution_count": 31,
      "outputs": []
    },
    {
      "cell_type": "code",
      "source": [
        "abot(next_prompt)"
      ],
      "metadata": {
        "colab": {
          "base_uri": "https://localhost:8080/",
          "height": 36
        },
        "id": "vjdkaDPCYpY_",
        "outputId": "ee6d0d0d-e0fb-4921-b042-22e870f88baf"
      },
      "execution_count": 32,
      "outputs": [
        {
          "output_type": "execute_result",
          "data": {
            "text/plain": [
              "'Answer: A Toy Poodle weighs an average of 7 lbs.'"
            ],
            "application/vnd.google.colaboratory.intrinsic+json": {
              "type": "string"
            }
          },
          "metadata": {},
          "execution_count": 32
        }
      ]
    },
    {
      "cell_type": "code",
      "source": [
        "abot.messages"
      ],
      "metadata": {
        "colab": {
          "base_uri": "https://localhost:8080/"
        },
        "id": "OLNL-3NjYq_m",
        "outputId": "89f8d6f0-438a-4575-efbc-f2fca5167b24"
      },
      "execution_count": 33,
      "outputs": [
        {
          "output_type": "execute_result",
          "data": {
            "text/plain": [
              "[{'role': 'system',\n",
              "  'content': 'You run in a loop of Thought, Action, PAUSE, Observation.\\nAt the end of the loop you output an Answer\\nUse Thought to describe your thoughts about the question you have been asked.\\nUse Action to run one of the actions available to you - then return PAUSE.\\nObservation will be the result of running those actions.\\n\\nYour available actions are:\\n\\ncalculate:\\ne.g. calculate: 4 * 7 / 3\\nRuns a calculation and returns the number - uses Python so be sure to use floating point syntax if necessary\\n\\naverage_dog_weight:\\ne.g. average_dog_weight: Collie\\nreturns average weight of a dog when given the breed\\n\\nExample session:\\n\\nQuestion: How much does a Bulldog weigh?\\nThought: I should look the dogs weight using average_dog_weight\\nAction: average_dog_weight: Bulldog\\nPAUSE\\n\\nYou will be called again with this:\\n\\nObservation: A Bulldog weights 51 lbs\\n\\nYou then output:\\n\\nAnswer: A bulldog weights 51 lbs'},\n",
              " {'role': 'user', 'content': 'How much does a toy poodle weigh?'},\n",
              " {'role': 'assistant',\n",
              "  'content': 'Thought: I should look up the average weight of a Toy Poodle using the average_dog_weight action.\\nAction: average_dog_weight: Toy Poodle\\nPAUSE'},\n",
              " {'role': 'user',\n",
              "  'content': 'Observation: a toy poodles average weight is 7 lbs'},\n",
              " {'role': 'assistant',\n",
              "  'content': 'Answer: A Toy Poodle weighs an average of 7 lbs.'}]"
            ]
          },
          "metadata": {},
          "execution_count": 33
        }
      ]
    },
    {
      "cell_type": "code",
      "source": [
        "abot = Agent(prompt)"
      ],
      "metadata": {
        "id": "83ARYj7pYtN3"
      },
      "execution_count": 34,
      "outputs": []
    },
    {
      "cell_type": "code",
      "source": [
        "question = \"\"\"I have 2 dogs, a border collie and a scottish terrier. \\\n",
        "What is their combined weight\"\"\"\n",
        "abot(question)"
      ],
      "metadata": {
        "colab": {
          "base_uri": "https://localhost:8080/",
          "height": 54
        },
        "id": "b3kMznUcYzXR",
        "outputId": "3ab46338-d041-407a-df54-34761eeb070e"
      },
      "execution_count": 35,
      "outputs": [
        {
          "output_type": "execute_result",
          "data": {
            "text/plain": [
              "'Thought: I need to find the average weight of both a Border Collie and a Scottish Terrier, then add them together to find the combined weight.\\nAction: average_dog_weight: Border Collie\\nPAUSE'"
            ],
            "application/vnd.google.colaboratory.intrinsic+json": {
              "type": "string"
            }
          },
          "metadata": {},
          "execution_count": 35
        }
      ]
    },
    {
      "cell_type": "code",
      "source": [
        "next_prompt = \"Observation: {}\".format(average_dog_weight(\"Border Collie\"))\n",
        "print(next_prompt)"
      ],
      "metadata": {
        "colab": {
          "base_uri": "https://localhost:8080/"
        },
        "id": "bBlrnXJqY2Av",
        "outputId": "5cf18c6a-f5bf-49dc-9749-750fb51552be"
      },
      "execution_count": 36,
      "outputs": [
        {
          "output_type": "stream",
          "name": "stdout",
          "text": [
            "Observation: a Border Collies average weight is 37 lbs\n"
          ]
        }
      ]
    },
    {
      "cell_type": "code",
      "source": [
        "abot(next_prompt)"
      ],
      "metadata": {
        "colab": {
          "base_uri": "https://localhost:8080/",
          "height": 36
        },
        "id": "BuJlAEW0Y3cF",
        "outputId": "09a71dac-4b98-4f00-8694-287a356cbbbc"
      },
      "execution_count": 37,
      "outputs": [
        {
          "output_type": "execute_result",
          "data": {
            "text/plain": [
              "'Action: average_dog_weight: Scottish Terrier\\nPAUSE'"
            ],
            "application/vnd.google.colaboratory.intrinsic+json": {
              "type": "string"
            }
          },
          "metadata": {},
          "execution_count": 37
        }
      ]
    },
    {
      "cell_type": "code",
      "source": [
        "next_prompt = \"Observation: {}\".format(average_dog_weight(\"Scottish Terrier\"))\n",
        "print(next_prompt)"
      ],
      "metadata": {
        "colab": {
          "base_uri": "https://localhost:8080/"
        },
        "id": "7HooxrLJY43f",
        "outputId": "6eeaece7-d340-4b1d-d3ac-110890acefd1"
      },
      "execution_count": 38,
      "outputs": [
        {
          "output_type": "stream",
          "name": "stdout",
          "text": [
            "Observation: Scottish Terriers average 20 lbs\n"
          ]
        }
      ]
    },
    {
      "cell_type": "code",
      "source": [
        "abot(next_prompt)"
      ],
      "metadata": {
        "colab": {
          "base_uri": "https://localhost:8080/",
          "height": 36
        },
        "id": "k50DBmnSY6i6",
        "outputId": "a0148af3-2cfe-4e83-b0b3-e4547d29ccaa"
      },
      "execution_count": 39,
      "outputs": [
        {
          "output_type": "execute_result",
          "data": {
            "text/plain": [
              "'Thought: Now that I have the average weights of both dogs, I can calculate their combined weight by adding the two values together.\\nAction: calculate: 37 + 20\\nPAUSE'"
            ],
            "application/vnd.google.colaboratory.intrinsic+json": {
              "type": "string"
            }
          },
          "metadata": {},
          "execution_count": 39
        }
      ]
    },
    {
      "cell_type": "code",
      "source": [
        "next_prompt = \"Observation: {}\".format(eval(\"37 + 20\"))\n",
        "print(next_prompt)"
      ],
      "metadata": {
        "colab": {
          "base_uri": "https://localhost:8080/"
        },
        "id": "KNZ-lvMFY76i",
        "outputId": "669ada62-79c6-4d4f-ac38-8c9d060f0920"
      },
      "execution_count": 40,
      "outputs": [
        {
          "output_type": "stream",
          "name": "stdout",
          "text": [
            "Observation: 57\n"
          ]
        }
      ]
    },
    {
      "cell_type": "code",
      "source": [
        "abot(next_prompt)"
      ],
      "metadata": {
        "colab": {
          "base_uri": "https://localhost:8080/",
          "height": 36
        },
        "id": "4Pw1tLBNY9VU",
        "outputId": "b8e32d3d-ea46-4e96-abe6-39675f39dbe1"
      },
      "execution_count": 41,
      "outputs": [
        {
          "output_type": "execute_result",
          "data": {
            "text/plain": [
              "'Answer: The combined weight of a Border Collie and a Scottish Terrier is 57 lbs.'"
            ],
            "application/vnd.google.colaboratory.intrinsic+json": {
              "type": "string"
            }
          },
          "metadata": {},
          "execution_count": 41
        }
      ]
    },
    {
      "cell_type": "code",
      "source": [
        "action_re = re.compile('^Action: (\\w+): (.*)$')   # python regular expression to selection action"
      ],
      "metadata": {
        "id": "7JPaKUhoY-w7"
      },
      "execution_count": 45,
      "outputs": []
    },
    {
      "cell_type": "code",
      "source": [
        "def query(question, max_turns=5):\n",
        "    i = 0\n",
        "    bot = Agent(prompt)\n",
        "    next_prompt = question\n",
        "    while i < max_turns:\n",
        "        i += 1\n",
        "        result = bot(next_prompt)\n",
        "        print(result)\n",
        "        actions = [\n",
        "            action_re.match(a)\n",
        "            for a in result.split('\\n')\n",
        "            if action_re.match(a)\n",
        "        ]\n",
        "        if actions:\n",
        "            # There is an action to run\n",
        "            action, action_input = actions[0].groups()\n",
        "            if action not in known_actions:\n",
        "                raise Exception(\"Unknown action: {}: {}\".format(action, action_input))\n",
        "            print(\" -- running {} {}\".format(action, action_input))\n",
        "            observation = known_actions[action](action_input)\n",
        "            print(\"Observation:\", observation)\n",
        "            next_prompt = \"Observation: {}\".format(observation)\n",
        "        else:\n",
        "            return"
      ],
      "metadata": {
        "id": "RmkFmUklZMfl"
      },
      "execution_count": 46,
      "outputs": []
    },
    {
      "cell_type": "code",
      "source": [
        "question = \"\"\"I have 2 dogs, a border collie and a scottish terrier. \\\n",
        "What is their combined weight\"\"\"\n",
        "query(question)"
      ],
      "metadata": {
        "colab": {
          "base_uri": "https://localhost:8080/"
        },
        "id": "bWZQCZD-ZWiX",
        "outputId": "a8193427-9c5b-4e92-a65e-2a2acd05c82f"
      },
      "execution_count": 47,
      "outputs": [
        {
          "output_type": "stream",
          "name": "stdout",
          "text": [
            "Thought: I need to find the average weight of both a Border Collie and a Scottish Terrier, then add them together to find the combined weight.\n",
            "Action: average_dog_weight: Border Collie\n",
            "PAUSE\n",
            " -- running average_dog_weight Border Collie\n",
            "Observation: a Border Collies average weight is 37 lbs\n",
            "Action: average_dog_weight: Scottish Terrier\n",
            "PAUSE\n",
            " -- running average_dog_weight Scottish Terrier\n",
            "Observation: Scottish Terriers average 20 lbs\n",
            "Action: calculate: 37 + 20\n",
            "PAUSE\n",
            " -- running calculate 37 + 20\n",
            "Observation: 57\n",
            "Answer: The combined average weight of a Border Collie and a Scottish Terrier is 57 lbs.\n"
          ]
        }
      ]
    },
    {
      "cell_type": "code",
      "source": [],
      "metadata": {
        "id": "9qAVAsCVZa9p"
      },
      "execution_count": null,
      "outputs": []
    }
  ]
}
